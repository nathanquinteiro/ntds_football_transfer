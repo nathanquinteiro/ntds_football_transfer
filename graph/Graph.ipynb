{
 "cells": [
  {
   "cell_type": "code",
   "execution_count": 1,
   "metadata": {},
   "outputs": [],
   "source": [
    "from urllib.request import *\n",
    "from bs4 import BeautifulSoup\n",
    "import re\n",
    "import pandas as pd\n",
    "import numpy as np\n",
    "import scipy.stats as stats\n",
    "import pylab as pl\n",
    "import requests\n",
    "import json\n",
    "import os\n",
    "import time\n",
    "%matplotlib inline"
   ]
  },
  {
   "cell_type": "code",
   "execution_count": 5,
   "metadata": {},
   "outputs": [],
   "source": [
    "with open(\"../scraper/data/players_ref.json\", \"r\") as in_file:\n",
    "    players_ref_list = json.load(in_file)"
   ]
  },
  {
   "cell_type": "code",
   "execution_count": 6,
   "metadata": {},
   "outputs": [
    {
     "data": {
      "text/plain": [
       "12075"
      ]
     },
     "execution_count": 6,
     "metadata": {},
     "output_type": "execute_result"
    }
   ],
   "source": [
    "len(players_ref_list)"
   ]
  },
  {
   "cell_type": "code",
   "execution_count": 19,
   "metadata": {},
   "outputs": [],
   "source": [
    "def parsePlayer(player_ref):    \n",
    "    playerID = player_ref.split(\"/\")[-1]\n",
    "    \n",
    "    with open(\"../scraper/data/players/\" + playerID + \"/page.html\") as in_file:\n",
    "        player_page = json.load(in_file)\n",
    "    \n",
    "    response = BeautifulSoup(player_page, 'html.parser')\n",
    "    \n",
    "    playerInfos = str(response.find(\"table\", {\"class\":\"auflistung\"}))\n",
    "    player = {}\n",
    "    player[\"href\"] = player_ref\n",
    "    try:\n",
    "        player[\"number\"] = response.find(\"span\", {\"class\":\"dataRN\"}).text\n",
    "    except:\n",
    "        player[\"number\"] = None\n",
    "    player[\"name\"] = response.find(\"h1\", {\"itemprop\":\"name\"}).text\n",
    "    player[\"player_id\"] = player_ref.split(\"/\")[-1]\n",
    "    position = BeautifulSoup(playerInfos.split(\"Position\")[1], 'html.parser').find(\"td\").text\n",
    "    reg = re.compile( \"[a-zA-Z -]\")\n",
    "    player[\"position\"] = \"\".join(reg.findall(position))\n",
    "    player[\"birthdate\"] = BeautifulSoup(playerInfos.split(\"Date of birth\")[1], 'html.parser').find(\"td\").text\n",
    "    player[\"nationality\"] = BeautifulSoup(playerInfos.split(\"Nationality\")[1], 'html.parser').find(\"td\").find(\"img\")[\"title\"]\n",
    "    player[\"current_club\"] = BeautifulSoup(playerInfos.split(\"Current club\")[1], 'html.parser').find(\"td\").find_all(\"a\")[-1].text\n",
    "\n",
    "    try:\n",
    "        transfers = []\n",
    "        trans = response.find(\"div\",{\"class\" : \"box transferhistorie\"}).find(\"table\").find(\"tbody\").find_all(\"tr\", {\"class\":\"zeile-transfer\"})\n",
    "\n",
    "        for t in trans:\n",
    "            transfer = {}\n",
    "            transfer[\"player\"] = player_ref.split(\"/\")[-1]\n",
    "            transfer[\"date\"] = t.find_all(\"td\", {\"class\":\"zentriert hide-for-small\"})[1].text\n",
    "            transfer[\"from\"] = t.find_all(\"td\", {\"class\":\"no-border-rechts vereinswappen\"})[0].find(\"a\")[\"id\"]\n",
    "            transfer[\"to\"] = t.find_all(\"td\", {\"class\":\"no-border-rechts vereinswappen\"})[1].find(\"a\")[\"id\"]\n",
    "            if (t.find(\"td\", {\"class\":\"zelle-abloese\"}).text) == \"End of loan\" or t.find(\"td\", {\"class\":\"zelle-abloese\"}).text ==\"Loan\":\n",
    "                transfer[\"fee\"] = t.find(\"td\", {\"class\":\"zelle-mw\"}).text\n",
    "            else:\n",
    "                transfer[\"fee\"] = t.find(\"td\",{\"class\":\"zelle-abloese\"}).text\n",
    "            transfers.append(transfer)\n",
    "    except:\n",
    "        transfers = None\n",
    "        \n",
    "    return player, transfers"
   ]
  },
  {
   "cell_type": "code",
   "execution_count": 20,
   "metadata": {},
   "outputs": [
    {
     "data": {
      "text/plain": [
       "({'birthdate': 'May 11, 1992 ',\n",
       "  'current_club': 'Chelsea FC',\n",
       "  'href': '/thibaut-courtois/profil/spieler/108390',\n",
       "  'name': 'Thibaut Courtois',\n",
       "  'nationality': 'Belgium',\n",
       "  'number': '#13',\n",
       "  'player_id': '108390',\n",
       "  'position': 'Goalkeeper'},\n",
       " [{'date': 'Jun 30, 2014',\n",
       "   'fee': '25,00 Mill. €',\n",
       "   'from': '13',\n",
       "   'player': '108390',\n",
       "   'to': '631'},\n",
       "  {'date': 'Jul 27, 2011',\n",
       "   'fee': 'Loan fee:1,20 Mill. €',\n",
       "   'from': '631',\n",
       "   'player': '108390',\n",
       "   'to': '13'},\n",
       "  {'date': 'Jul 26, 2011',\n",
       "   'fee': '8,95 Mill. €',\n",
       "   'from': '1184',\n",
       "   'player': '108390',\n",
       "   'to': '631'},\n",
       "  {'date': 'Jul 1, 2009',\n",
       "   'fee': '-',\n",
       "   'from': '3494',\n",
       "   'player': '108390',\n",
       "   'to': '1184'},\n",
       "  {'date': 'Jul 1, 2008',\n",
       "   'fee': '-',\n",
       "   'from': '49393',\n",
       "   'player': '108390',\n",
       "   'to': '3494'},\n",
       "  {'date': 'Jul 1, 2007',\n",
       "   'fee': '-',\n",
       "   'from': '34282',\n",
       "   'player': '108390',\n",
       "   'to': '49393'}])"
      ]
     },
     "execution_count": 20,
     "metadata": {},
     "output_type": "execute_result"
    }
   ],
   "source": [
    "test = parsePlayer(players_ref_list[0])\n",
    "test"
   ]
  },
  {
   "cell_type": "code",
   "execution_count": null,
   "metadata": {},
   "outputs": [],
   "source": []
  }
 ],
 "metadata": {
  "kernelspec": {
   "display_name": "Python 3",
   "language": "python",
   "name": "python3"
  },
  "language_info": {
   "codemirror_mode": {
    "name": "ipython",
    "version": 3
   },
   "file_extension": ".py",
   "mimetype": "text/x-python",
   "name": "python",
   "nbconvert_exporter": "python",
   "pygments_lexer": "ipython3",
   "version": "3.5.4"
  }
 },
 "nbformat": 4,
 "nbformat_minor": 2
}
