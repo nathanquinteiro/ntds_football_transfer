{
 "cells": [
  {
   "cell_type": "markdown",
   "metadata": {},
   "source": [
    "# Transfermarkt Scraper"
   ]
  },
  {
   "cell_type": "code",
   "execution_count": 8,
   "metadata": {},
   "outputs": [],
   "source": [
    "from urllib.request import *\n",
    "from bs4 import BeautifulSoup\n",
    "import re\n",
    "import pandas as pd\n",
    "import numpy as np\n",
    "import scipy.stats as stats\n",
    "import pylab as pl\n",
    "import requests\n",
    "import json\n",
    "import os\n",
    "%matplotlib inline"
   ]
  },
  {
   "cell_type": "code",
   "execution_count": 9,
   "metadata": {},
   "outputs": [],
   "source": [
    "base_url = \"https://www.transfermarkt.com\""
   ]
  },
  {
   "cell_type": "code",
   "execution_count": 22,
   "metadata": {},
   "outputs": [],
   "source": [
    "def parsePlayer(player_ref):\n",
    "    transferList = []\n",
    "    \n",
    "    params = {\n",
    "        \"Upgrade-Insecure-Requests\": 1,\n",
    "        \"User-Agent\": \"Mozilla/5.0 (X11; Linux x86_64) AppleWebKit/537.36 (KHTML, like Gecko) Chrome/53.0.2785.92 Safari/537.36\",\n",
    "        \"Cookies\": \"_tmlpu=5; TMSESSID=6i2juunt96ka2esgq8dkgv94e0; POPUPCHECK=1511860871090; _ga=GA1.2.90438853.1500141448; _gid=GA1.2.1843532237.1511774457; _gat=1; utag_main=v_id:015d4765ea150057865ec14d132805068001e060009dc$_sn:9$_ss:0$_st:1511799415681$dc_visit_transfermarkt-transfermarkt.de:9$dc_visit_dip-main:9$dip_times_empty_enrichment:11$ses_id:1511795561074%3Bexp-session$_pn:23%3Bexp-session$dc_event_transfermarkt-transfermarkt.de:20%3Bexp-session$dc_region_transfermarkt-transfermarkt.de:eu-central-1%3Bexp-session$collectCookieMode:3rdParty%3Bexp-session$dip_events_this_session:20%3Bexp-session$dc_event_dip-main:20%3Bexp-session$dc_region_dip-main:eu-central-1%3Bexp-session\"\n",
    "    }\n",
    "    r = requests.get(\"https://www.transfermarkt.com/jordi-alba/profil/spieler/69751\", params=params)\n",
    "    response = BeautifulSoup(r.text, 'html.parser')\n",
    "    print(response)\n",
    "    '''\n",
    "    html_reviews = response.find_all(\"div\", {\"class\": \"review-container clearfix\"})\n",
    "    reviews = []\n",
    "    \n",
    "    for article in articles:\n",
    "        if article.h3 is not None:\n",
    "            name = removeSpace(article.h3.text)\n",
    "            if name != \"\":\n",
    "                print(name)\n",
    "                try:\n",
    "                    ratingStars = article.find(\"div\",{\"class\" : \"rating-stars\"})[\"data-ratingstars\"]\n",
    "                    nbReviews = article.find(\"format-large-number\")[\"number\"]\n",
    "                except:\n",
    "                    ratingStars = None\n",
    "                    nbReviews = None\n",
    "                link = article.find('a', href=re.compile('^/recipe/'))\n",
    "                if link is not None:\n",
    "                    print(link['href'])\n",
    "                    articlesList.append([name, ratingStars, nbReviews, link['href']])\n",
    "                else:\n",
    "                    link = article.find('a', href=re.compile('^/cook/'))\n",
    "                    if link is not None:\n",
    "                        print(link['href'])\n",
    "                        articlesList.append([name, ratingStars, nbReviews, link['href']])\n",
    "                    else:\n",
    "                        print(\"REALLY NO LINKS\")\n",
    "    return articlesList\n",
    "    '''"
   ]
  },
  {
   "cell_type": "code",
   "execution_count": 23,
   "metadata": {},
   "outputs": [
    {
     "ename": "UnboundLocalError",
     "evalue": "local variable 'r' referenced before assignment",
     "output_type": "error",
     "traceback": [
      "\u001b[0;31m---------------------------------------------------------------------------\u001b[0m",
      "\u001b[0;31mUnboundLocalError\u001b[0m                         Traceback (most recent call last)",
      "\u001b[0;32m<ipython-input-23-6a509cdfe7c6>\u001b[0m in \u001b[0;36m<module>\u001b[0;34m()\u001b[0m\n\u001b[1;32m      1\u001b[0m \u001b[0mhref\u001b[0m \u001b[0;34m=\u001b[0m \u001b[0;34m\"/jordi-alba/profil/spieler/69751\"\u001b[0m\u001b[0;34m\u001b[0m\u001b[0m\n\u001b[0;32m----> 2\u001b[0;31m \u001b[0mparsePlayer\u001b[0m\u001b[0;34m(\u001b[0m\u001b[0mhref\u001b[0m\u001b[0;34m)\u001b[0m\u001b[0;34m\u001b[0m\u001b[0m\n\u001b[0m",
      "\u001b[0;32m<ipython-input-22-dd7d50b4063c>\u001b[0m in \u001b[0;36mparsePlayer\u001b[0;34m(player_ref)\u001b[0m\n\u001b[1;32m      7\u001b[0m         \u001b[0;34m\"Cookies\"\u001b[0m\u001b[0;34m:\u001b[0m \u001b[0;34m\"_tmlpu=5; TMSESSID=6i2juunt96ka2esgq8dkgv94e0; POPUPCHECK=1511860871090; _ga=GA1.2.90438853.1500141448; _gid=GA1.2.1843532237.1511774457; _gat=1; utag_main=v_id:015d4765ea150057865ec14d132805068001e060009dc$_sn:9$_ss:0$_st:1511799415681$dc_visit_transfermarkt-transfermarkt.de:9$dc_visit_dip-main:9$dip_times_empty_enrichment:11$ses_id:1511795561074%3Bexp-session$_pn:23%3Bexp-session$dc_event_transfermarkt-transfermarkt.de:20%3Bexp-session$dc_region_transfermarkt-transfermarkt.de:eu-central-1%3Bexp-session$collectCookieMode:3rdParty%3Bexp-session$dip_events_this_session:20%3Bexp-session$dc_event_dip-main:20%3Bexp-session$dc_region_dip-main:eu-central-1%3Bexp-session\"\u001b[0m\u001b[0;34m\u001b[0m\u001b[0m\n\u001b[1;32m      8\u001b[0m     }\n\u001b[0;32m----> 9\u001b[0;31m     \u001b[0mprint\u001b[0m\u001b[0;34m(\u001b[0m\u001b[0mr\u001b[0m\u001b[0;34m)\u001b[0m\u001b[0;34m\u001b[0m\u001b[0m\n\u001b[0m\u001b[1;32m     10\u001b[0m     \u001b[0mr\u001b[0m \u001b[0;34m=\u001b[0m \u001b[0mrequests\u001b[0m\u001b[0;34m.\u001b[0m\u001b[0mget\u001b[0m\u001b[0;34m(\u001b[0m\u001b[0;34m\"https://www.transfermarkt.com/jordi-alba/profil/spieler/69751\"\u001b[0m\u001b[0;34m,\u001b[0m \u001b[0mparams\u001b[0m\u001b[0;34m=\u001b[0m\u001b[0mparams\u001b[0m\u001b[0;34m)\u001b[0m\u001b[0;34m\u001b[0m\u001b[0m\n\u001b[1;32m     11\u001b[0m     \u001b[0mresponse\u001b[0m \u001b[0;34m=\u001b[0m \u001b[0mBeautifulSoup\u001b[0m\u001b[0;34m(\u001b[0m\u001b[0mr\u001b[0m\u001b[0;34m.\u001b[0m\u001b[0mtext\u001b[0m\u001b[0;34m,\u001b[0m \u001b[0;34m'html.parser'\u001b[0m\u001b[0;34m)\u001b[0m\u001b[0;34m\u001b[0m\u001b[0m\n",
      "\u001b[0;31mUnboundLocalError\u001b[0m: local variable 'r' referenced before assignment"
     ]
    }
   ],
   "source": [
    "href = \"/jordi-alba/profil/spieler/69751\"\n",
    "parsePlayer(href)"
   ]
  },
  {
   "cell_type": "code",
   "execution_count": null,
   "metadata": {},
   "outputs": [],
   "source": []
  }
 ],
 "metadata": {
  "kernelspec": {
   "display_name": "Python 3",
   "language": "python",
   "name": "python3"
  },
  "language_info": {
   "codemirror_mode": {
    "name": "ipython",
    "version": 3
   },
   "file_extension": ".py",
   "mimetype": "text/x-python",
   "name": "python",
   "nbconvert_exporter": "python",
   "pygments_lexer": "ipython3",
   "version": "3.5.4"
  }
 },
 "nbformat": 4,
 "nbformat_minor": 2
}
