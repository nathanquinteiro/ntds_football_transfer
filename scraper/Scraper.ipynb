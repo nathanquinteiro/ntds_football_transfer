{
 "cells": [
  {
   "cell_type": "markdown",
   "metadata": {},
   "source": [
    "# Transfermarkt Scraper"
   ]
  },
  {
   "cell_type": "code",
   "execution_count": 119,
   "metadata": {},
   "outputs": [],
   "source": [
    "from urllib.request import *\n",
    "from bs4 import BeautifulSoup\n",
    "import re\n",
    "import pandas as pd\n",
    "import numpy as np\n",
    "import scipy.stats as stats\n",
    "import pylab as pl\n",
    "import requests\n",
    "import json\n",
    "import os\n",
    "import time\n",
    "%matplotlib inline"
   ]
  },
  {
   "cell_type": "code",
   "execution_count": 15,
   "metadata": {},
   "outputs": [],
   "source": [
    "base_url = \"https://www.transfermarkt.com\""
   ]
  },
  {
   "cell_type": "code",
   "execution_count": 16,
   "metadata": {},
   "outputs": [],
   "source": [
    "def parseContinent(ref):\n",
    "    \n",
    "    HEADERS = {'User-Agent': 'Mozilla/5.0'}\n",
    "    url = base_url + \"/\" + ref\n",
    "\n",
    "    r = requests.get(url, headers=HEADERS)\n",
    "    response = BeautifulSoup(r.text, 'html.parser')\n",
    "    \n",
    "    leagues = []\n",
    "    rows = response.find(\"table\", {\"class\":\"items\"}).find_all(\"tr\",{\"class\",\"odd\"})\n",
    "    rows += response.find(\"table\", {\"class\":\"items\"}).find_all(\"tr\",{\"class\",\"even\"})\n",
    "\n",
    "    for row in rows:\n",
    "        val = row.find(\"td\",{\"class\":\"rechts hauptlink\"}).text\n",
    "        val = \".\".join(val.split(\",\"))\n",
    "        rest = val.split(\" \")[1]\n",
    "        val = val.split(\" \")[0]\n",
    "        if \"Bill\" in rest:\n",
    "            val = float(val) * 10**9\n",
    "        else:\n",
    "            if \"Mill\" in rest:\n",
    "                val = float(val) * 10**6\n",
    "            else: \n",
    "                val = 0\n",
    "        if val > 200*10**6:\n",
    "            league = {}\n",
    "            league[\"href\"] = row.findAll('a')[1]['href']\n",
    "            league[\"name\"] = row.find(\"img\")[\"title\"]\n",
    "            league[\"country\"] = row.find(\"td\",{\"class\",\"zentriert\"}).find(\"img\")[\"title\"]\n",
    "            league[\"tot_value\"] = val\n",
    "            leagues.append(league)\n",
    "            \n",
    "    return leagues"
   ]
  },
  {
   "cell_type": "code",
   "execution_count": 89,
   "metadata": {},
   "outputs": [],
   "source": [
    "def getPlayers(club_page):\n",
    "    players = []\n",
    "    players_infos = club_page.find(\"div\", {\"id\":\"yw1\"}).find(\"table\", {\"class\":\"items\"}).find(\"tbody\").find_all(\"tr\", recursive=False)\n",
    "    for player_info in players_infos:\n",
    "        player = {}\n",
    "        player_info = player_info.find(\"a\", {\"class\":\"spielprofil_tooltip\"})\n",
    "        player[\"name\"] = player_info[\"title\"]\n",
    "        player[\"id\"] = player_info[\"id\"]\n",
    "        player[\"href\"] = player_info[\"href\"]\n",
    "        players.append(player)\n",
    "    return players"
   ]
  },
  {
   "cell_type": "code",
   "execution_count": 90,
   "metadata": {},
   "outputs": [],
   "source": [
    "def parse_league(league_ref): #get clubs in league\n",
    "\n",
    "    HEADERS = {'User-Agent': 'Mozilla/5.0'}\n",
    "    url = base_url + league_ref\n",
    "    clubs = []\n",
    "    \n",
    "    r = requests.get(url, headers=HEADERS)\n",
    "    response = BeautifulSoup(r.text, 'html.parser')\n",
    "    rows = response.find(\"table\", {\"class\":\"items\"}).find_all(\"tr\",{\"class\",\"odd\"})\n",
    "    rows += response.find(\"table\", {\"class\":\"items\"}).find_all(\"tr\",{\"class\",\"even\"})\n",
    "    \n",
    "    for row in rows:\n",
    "            \n",
    "            url_club = base_url + row.findAll(\"td\",{\"class\":\"zentriert\"})[1].find('a')['href']\n",
    "            r_club = requests.get(url_club, headers=HEADERS)\n",
    "            response_club = BeautifulSoup(r_club.text, 'html.parser')\n",
    "            stadium_info =response_club.find(\"div\",{\"id\":\"main\"}).findAll(\"span\",{\"class\":\"dataValue\"})[4].text\n",
    "            \n",
    "            stadium_info=stadium_info.replace(u'\\xa0',u'')\n",
    "            stadium_info=stadium_info.replace(u'\\n',u'')\n",
    "\n",
    "\n",
    "            split_stadium= re.split(r'(\\d+)',stadium_info)\n",
    "            stadium = split_stadium[0]\n",
    "#             num_seats = float(split_stadium[1]+'.'+split_stadium[3])\n",
    "           \n",
    "            \n",
    "            club = {}\n",
    "            club[\"name\"] = row.findAll(\"td\",{\"class\":\"zentriert\"})[1].find('a')['title']\n",
    "            club[\"href\"] = row.findAll(\"td\",{\"class\":\"zentriert\"})[1].find('a')['href']\n",
    "            club[\"squad\"] = row.findAll(\"td\",{\"class\":\"zentriert\"})[1].text\n",
    "            club[\"market_value\"] = row.find(\"td\",{\"class\":\"rechts show-for-small show-for-pad nowrap\"}).text\n",
    "            club[\"stadium\"] = stadium\n",
    "            \n",
    "            players = getPlayers(BeautifulSoup(r_club.text, 'html.parser'))\n",
    "            club[\"players\"] = players\n",
    "#             club[\"stadium_seats\"] = num_seats\n",
    "            clubs.append(club)  \n",
    "    \n",
    "    return clubs"
   ]
  },
  {
   "cell_type": "code",
   "execution_count": 114,
   "metadata": {},
   "outputs": [],
   "source": [
    "def parsePlayer(player_ref):    \n",
    "    \n",
    "    HEADERS = {'User-Agent': 'Mozilla/5.0'}\n",
    "    url = base_url + player_ref\n",
    "\n",
    "    r = requests.get(url, headers=HEADERS)\n",
    "    response = BeautifulSoup(r.text, 'html.parser')\n",
    "    \n",
    "    playerInfos = str(response.find(\"table\", {\"class\":\"auflistung\"}))\n",
    "    player = {}\n",
    "    player[\"href\"] = player_ref\n",
    "    player[\"number\"] = response.find(\"span\", {\"class\":\"dataRN\"}).text\n",
    "    player[\"name\"] = response.find(\"h1\", {\"itemprop\":\"name\"}).text\n",
    "    player[\"player_id\"] = player_ref.split(\"/\")[-1]\n",
    "    position = BeautifulSoup(playerInfos.split(\"Position\")[1], 'html.parser').find(\"td\").text\n",
    "    reg = re.compile( \"[a-zA-Z -]\")\n",
    "    player[\"position\"] = \"\".join(reg.findall(position))\n",
    "    player[\"birthdate\"] = BeautifulSoup(playerInfos.split(\"Date of birth\")[1], 'html.parser').find(\"td\").text\n",
    "    player[\"nationality\"] = BeautifulSoup(playerInfos.split(\"Nationality\")[1], 'html.parser').find(\"td\").find(\"img\")[\"title\"]\n",
    "    player[\"current_club\"] = BeautifulSoup(playerInfos.split(\"Current club\")[1], 'html.parser').find(\"td\").find_all(\"a\")[-1].text\n",
    "\n",
    "    transfers = []\n",
    "    trans = response.find(\"div\",{\"class\" : \"box transferhistorie\"}).find(\"table\").find(\"tbody\").find_all(\"tr\", {\"class\":\"zeile-transfer\"})\n",
    "\n",
    "    for t in trans:\n",
    "        transfer = {}\n",
    "        transfer[\"player\"] = player_ref.split(\"/\")[-1]\n",
    "        transfer[\"date\"] = t.find_all(\"td\", {\"class\":\"zentriert hide-for-small\"})[1].text\n",
    "        transfer[\"from\"] = t.find_all(\"td\", {\"class\":\"no-border-rechts vereinswappen\"})[0].find(\"a\")[\"id\"]\n",
    "        transfer[\"to\"] = t.find_all(\"td\", {\"class\":\"no-border-rechts vereinswappen\"})[1].find(\"a\")[\"id\"]\n",
    "        transfer[\"fee\"] = t.find(\"td\", {\"class\":\"zelle-mw\"}).text\n",
    "\n",
    "        transfers.append(transfer)\n",
    "        \n",
    "    return player, transfers"
   ]
  },
  {
   "cell_type": "code",
   "execution_count": 92,
   "metadata": {},
   "outputs": [
    {
     "data": {
      "text/plain": [
       "'\\nleagues = parseContinent(\"wettbewerbe/europa\")\\nleagues += parseContinent(\"wettbewerbe/amerika\")\\nleagues += parseContinent(\"wettbewerbe/asien\")\\nwith open(\"data/leagues.json\", \"w\") as out:\\n    json.dump(leagues, out)\\n'"
      ]
     },
     "execution_count": 92,
     "metadata": {},
     "output_type": "execute_result"
    }
   ],
   "source": [
    "'''\n",
    "leagues = parseContinent(\"wettbewerbe/europa\")\n",
    "leagues += parseContinent(\"wettbewerbe/amerika\")\n",
    "leagues += parseContinent(\"wettbewerbe/asien\")\n",
    "with open(\"data/leagues.json\", \"w\") as out:\n",
    "    json.dump(leagues, out)\n",
    "'''"
   ]
  },
  {
   "cell_type": "code",
   "execution_count": 93,
   "metadata": {},
   "outputs": [
    {
     "name": "stdout",
     "output_type": "stream",
     "text": [
      "Number of leagues: 23\n",
      "Premier League\n",
      "Serie A\n",
      "Ligue 1\n",
      "Liga NOS\n",
      "Eredivisie\n",
      "Super League\n",
      "Raiffeisen Super League\n",
      "LaLiga\n",
      "1.Bundesliga\n",
      "Süper Lig\n",
      "Premier Liga\n",
      "Jupiler Pro League\n",
      "Premier Liga\n",
      "HET Liga\n",
      "Campeonato Brasileiro Série A\n",
      "Liga MX Clausura\n",
      "Major League Soccer\n",
      "Campeonato Brasileiro Série B\n",
      "Primera División\n",
      "Liga MX Apertura\n",
      "Liga Águila I\n",
      "Chinese Super League\n",
      "J1 League\n"
     ]
    }
   ],
   "source": [
    "with open(\"data/leagues.json\", \"r\") as in_file:\n",
    "    leagues = json.load(in_file)\n",
    "    \n",
    "print(\"Number of leagues: \" + str(len(leagues)))\n",
    "for league in leagues:\n",
    "    print(league[\"name\"])"
   ]
  },
  {
   "cell_type": "code",
   "execution_count": 94,
   "metadata": {},
   "outputs": [
    {
     "data": {
      "text/plain": [
       "{'country': 'England',\n",
       " 'href': '/premier-league/startseite/wettbewerb/GB1',\n",
       " 'name': 'Premier League',\n",
       " 'tot_value': 5790000000.0}"
      ]
     },
     "execution_count": 94,
     "metadata": {},
     "output_type": "execute_result"
    }
   ],
   "source": [
    "leagues[0]"
   ]
  },
  {
   "cell_type": "code",
   "execution_count": null,
   "metadata": {},
   "outputs": [],
   "source": [
    "clubs = parse_league(leagues[0][\"href\"])"
   ]
  },
  {
   "cell_type": "code",
   "execution_count": 98,
   "metadata": {},
   "outputs": [
    {
     "data": {
      "text/plain": [
       "'\\nfor league in leagues[1:]:\\n    clubs += parse_league(league[\"href\"])\\n    \\nwith open(\"data/clubs.json\", \"w\") as out:\\n    json.dump(clubs, out)\\n'"
      ]
     },
     "execution_count": 98,
     "metadata": {},
     "output_type": "execute_result"
    }
   ],
   "source": [
    "'''\n",
    "for league in leagues[1:]:\n",
    "    clubs += parse_league(league[\"href\"])\n",
    "    \n",
    "with open(\"data/clubs.json\", \"w\") as out:\n",
    "    json.dump(clubs, out)\n",
    "'''"
   ]
  },
  {
   "cell_type": "code",
   "execution_count": 100,
   "metadata": {},
   "outputs": [],
   "source": [
    "with open(\"data/clubs.json\", \"r\") as in_file:\n",
    "    clubs = json.load(in_file)"
   ]
  },
  {
   "cell_type": "code",
   "execution_count": 101,
   "metadata": {},
   "outputs": [
    {
     "data": {
      "text/plain": [
       "418"
      ]
     },
     "execution_count": 101,
     "metadata": {},
     "output_type": "execute_result"
    }
   ],
   "source": [
    "len(clubs)"
   ]
  },
  {
   "cell_type": "code",
   "execution_count": 102,
   "metadata": {},
   "outputs": [
    {
     "data": {
      "text/plain": [
       "23"
      ]
     },
     "execution_count": 102,
     "metadata": {},
     "output_type": "execute_result"
    }
   ],
   "source": [
    "len(leagues)"
   ]
  },
  {
   "cell_type": "code",
   "execution_count": null,
   "metadata": {
    "collapsed": true
   },
   "outputs": [],
   "source": []
  },
  {
   "cell_type": "code",
   "execution_count": 110,
   "metadata": {},
   "outputs": [
    {
     "data": {
      "text/plain": [
       "'\\nplayer_list = []\\n\\nfor club in clubs:\\n    players = club[\"players\"]\\n    for player in players:\\n        player_list.append(player[\"href\"])\\n\\nwith open(\"data/players_ref.json\", \"w\") as out:\\n    json.dump(player_list, out)\\n'"
      ]
     },
     "execution_count": 110,
     "metadata": {},
     "output_type": "execute_result"
    }
   ],
   "source": [
    "'''\n",
    "player_list = []\n",
    "\n",
    "for club in clubs:\n",
    "    players = club[\"players\"]\n",
    "    for player in players:\n",
    "        player_list.append(player[\"href\"])\n",
    "\n",
    "with open(\"data/players_ref.json\", \"w\") as out:\n",
    "    json.dump(player_list, out)\n",
    "'''"
   ]
  },
  {
   "cell_type": "code",
   "execution_count": 111,
   "metadata": {},
   "outputs": [],
   "source": [
    "with open(\"data/players_ref.json\", \"r\") as in_file:\n",
    "    players_list = json.load(in_file)"
   ]
  },
  {
   "cell_type": "code",
   "execution_count": null,
   "metadata": {},
   "outputs": [
    {
     "name": "stdout",
     "output_type": "stream",
     "text": [
      "Error with: /matej-delac/profil/spieler/60220\n",
      "Error with: /abdul-rahman-baba/profil/spieler/224884\n",
      "Error with: /wallace-oliveira/profil/spieler/181779\n",
      "Error with: /shani-tarashaj/profil/spieler/184381\n",
      "Error with: /adam-federici/profil/spieler/4233\n",
      "Error with: /doneil-henry/profil/spieler/157907\n",
      "Error with: /jherson-vergara/profil/spieler/262972\n",
      "Error with: /hachim-mastour/profil/spieler/253267\n",
      "Error with: /nnamdi-oduamadi/profil/spieler/130354\n",
      "Error with: /assane-gnoukouri/profil/spieler/336704\n",
      "Error with: /melker-hallberg/profil/spieler/203773\n",
      "Error with: /nabil-jaadi/profil/spieler/200790\n",
      "Error with: /fabrizio-melara/profil/spieler/22622\n",
      "Error with: /boukary-drame/profil/spieler/33442\n",
      "Error with: /loick-landre/profil/spieler/164912\n",
      "Error with: /michelangelo-albertazzi/profil/spieler/56841\n",
      "Error with: /alejandro-gonzalez/profil/spieler/100497\n",
      "Error with: /anthony-ribelin/profil/spieler/334006\n",
      "Error with: /kermit-erasmus/profil/spieler/65992\n",
      "Error with: /erwan-maury/profil/spieler/386053\n",
      "Error with: /khamis-digol-ndozangue/profil/spieler/456445\n",
      "Error with: /vincent-enyeama/profil/spieler/37760\n",
      "Error with: /scotty-sadzoute/profil/spieler/531338\n",
      "Error with: /benjamin-verite/profil/spieler/344606\n",
      "Error with: /boubakary-soumare/profil/spieler/344605\n",
      "Error with: /raphael-adiceam/profil/spieler/419996\n",
      "Error with: /amido-balde/profil/spieler/118309\n",
      "Error with: /ola-john/profil/spieler/124550\n",
      "Error with: /marcio-rosa/profil/spieler/398048\n",
      "Error with: /lutsharel-geertruida/profil/spieler/420210\n",
      "Error with: /lars-ten-teije/profil/spieler/411506\n",
      "Error with: /roy-kortsmit/profil/spieler/195546\n",
      "Error with: /leonard-nienhuis/profil/spieler/84913\n",
      "Error with: /alex-craninx/profil/spieler/208512\n",
      "Error with: /sander-fischer/profil/spieler/73504\n",
      "Error with: /bart-vriends/profil/spieler/129991\n",
      "Error with: /michel-breuer/profil/spieler/24498\n",
      "Error with: /julian-chabot/profil/spieler/303219\n",
      "Error with: /daniel-breedijk/profil/spieler/215091\n",
      "Error with: /nicholas-marfelt/profil/spieler/273973\n",
      "Error with: /jair-oosterlen/profil/spieler/342684\n",
      "Error with: /janne-saksela/profil/spieler/130280\n",
      "Error with: /sherel-floranus/profil/spieler/315211\n",
      "Error with: /ryan-sanusi/profil/spieler/202380\n",
      "Error with: /franck-bambock/profil/spieler/182882\n",
      "Error with: /kenneth-dougall/profil/spieler/334804\n",
      "Error with: /george-dobson/profil/spieler/292734\n",
      "Error with: /mark-veenhoven/profil/spieler/405969\n",
      "Error with: /deroy-duarte/profil/spieler/432852\n",
      "Error with: /stijn-spierings/profil/spieler/241501\n",
      "Error with: /paco-van-moorsel/profil/spieler/57506\n",
      "Error with: /craig-goodwin/profil/spieler/214798\n",
      "Error with: /loris-brogno/profil/spieler/182420\n",
      "Error with: /thomas-verhaar/profil/spieler/77147\n",
      "Error with: /ilias-alhaft/profil/spieler/337669\n",
      "Error with: /robert-muhren/profil/spieler/186763\n",
      "Error with: /nick-proschwitz/profil/spieler/31535\n",
      "Error with: /ragnar-ache/profil/spieler/416380\n",
      "Error with: /kenneth-paal/profil/spieler/247596\n",
      "Error with: /mauro-junior/profil/spieler/323910\n",
      "Error with: /simon-thern/profil/spieler/116614\n",
      "Error with: /sam-van-huffel/profil/spieler/444065\n",
      "Error with: /bram-verbong/profil/spieler/457072\n",
      "Error with: /stan-van-dijck/profil/spieler/457090\n",
      "Error with: /theofanis-tzandaris/profil/spieler/231471\n",
      "Error with: /nicolas-luchinger/profil/spieler/183260\n",
      "Error with: /jairo-morillas/profil/spieler/126741\n",
      "Error with: /jon-ander-serantes/profil/spieler/71835\n",
      "Error with: /fabian-orellana/profil/spieler/60890\n",
      "Error with: /alfredo-ortuno/profil/spieler/96540\n",
      "Error with: /yann-aurel-bisseck/profil/spieler/441986\n",
      "Error with: /bruno-nazario/profil/spieler/250010\n",
      "Error with: /jann-fiete-arp/profil/spieler/343337\n",
      "Error with: /veli-kavlak/profil/spieler/29622\n",
      "Error with: /engin-bekdemir/profil/spieler/83943\n",
      "Error with: /cheick-diabate/profil/spieler/78082\n",
      "Error with: /raul-rusescu/profil/spieler/81433\n",
      "Error with: /ali-ozgun/profil/spieler/109191\n",
      "Error with: /ali-ahamada/profil/spieler/126767\n",
      "Error with: /landry-nguemo/profil/spieler/34372\n",
      "Error with: /bady/profil/spieler/226404\n",
      "Error with: /petar-grbic/profil/spieler/98102\n",
      "Error with: /hakan-balta/profil/spieler/29494\n",
      "Error with: /nigel-de-jong/profil/spieler/4672\n",
      "Error with: /saso-fornezzi/profil/spieler/22109\n",
      "Error with: /oguz-mataraci/profil/spieler/284545\n",
      "Error with: /darko-lazic/profil/spieler/168952\n",
      "Error with: /glynor-plet/profil/spieler/80073\n",
      "Error with: /hannes-delcroix/profil/spieler/338635\n",
      "Error with: /youn-czekanowicz/profil/spieler/303456\n",
      "Error with: /nicolas-raskin/profil/spieler/422763\n",
      "Error with: /aboubakary-koita/profil/spieler/422377\n",
      "Error with: /darko-bjedov/profil/spieler/138846\n",
      "Error with: /arnaud-bodart/profil/spieler/417278\n",
      "Error with: /dimitri-lavalee/profil/spieler/420890\n",
      "Error with: /farouk-miya/profil/spieler/339005\n",
      "Error with: /beni-badibanga/profil/spieler/347625\n",
      "Error with: /gilles-lentz/profil/spieler/169504\n",
      "Error with: /lennert-de-smul/profil/spieler/355707\n",
      "Error with: /valentin-baume/profil/spieler/331574\n",
      "Error with: /joachim-imbrechts/profil/spieler/502261\n",
      "Error with: /yassine-salah/profil/spieler/451320\n",
      "Error with: /laszlo-koteles/profil/spieler/57188\n",
      "Error with: /yoni-buyens/profil/spieler/42189\n",
      "Error with: /victor-vandewiele/profil/spieler/375019\n"
     ]
    }
   ],
   "source": [
    "for player_ref in players_list:\n",
    "    player_id = player_ref.split(\"/\")[-1]\n",
    "     \n",
    "    directory = 'data/players/' + player_id + \"/\"\n",
    "    fname = directory + \"info.json\"\n",
    "    \n",
    "    try:\n",
    "        if os.path.isfile(fname) == False:\n",
    "            if os.path.exists(directory) == False:\n",
    "                os.makedirs(directory)\n",
    "\n",
    "            player = parsePlayer(player_ref)\n",
    "            with open(fname, \"w\")as out:\n",
    "                json.dump(player, out)  \n",
    "            time.sleep(1)\n",
    "    except:\n",
    "        print(\"Error with: \" + player_ref)"
   ]
  },
  {
   "cell_type": "code",
   "execution_count": null,
   "metadata": {},
   "outputs": [],
   "source": []
  }
 ],
 "metadata": {
  "kernelspec": {
   "display_name": "Python 3",
   "language": "python",
   "name": "python3"
  },
  "language_info": {
   "codemirror_mode": {
    "name": "ipython",
    "version": 3
   },
   "file_extension": ".py",
   "mimetype": "text/x-python",
   "name": "python",
   "nbconvert_exporter": "python",
   "pygments_lexer": "ipython3",
   "version": "3.5.4"
  }
 },
 "nbformat": 4,
 "nbformat_minor": 2
}
