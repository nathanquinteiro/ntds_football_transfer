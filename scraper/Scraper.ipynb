{
 "cells": [
  {
   "cell_type": "markdown",
   "metadata": {},
   "source": [
    "# Transfermarkt Scraper"
   ]
  },
  {
   "cell_type": "code",
   "execution_count": 1,
   "metadata": {
    "collapsed": true
   },
   "outputs": [],
   "source": [
    "from urllib.request import *\n",
    "from bs4 import BeautifulSoup\n",
    "import re\n",
    "import pandas as pd\n",
    "import numpy as np\n",
    "import scipy.stats as stats\n",
    "import pylab as pl\n",
    "import requests\n",
    "import json\n",
    "import os\n",
    "%matplotlib inline"
   ]
  },
  {
   "cell_type": "code",
   "execution_count": 2,
   "metadata": {
    "collapsed": true
   },
   "outputs": [],
   "source": [
    "base_url = \"https://www.transfermarkt.com\""
   ]
  },
  {
   "cell_type": "code",
   "execution_count": 3,
   "metadata": {
    "collapsed": true
   },
   "outputs": [],
   "source": [
    "def parseContinent(ref):\n",
    "    \n",
    "    HEADERS = {'User-Agent': 'Mozilla/5.0'}\n",
    "    url = base_url + \"/\" + ref\n",
    "\n",
    "    r = requests.get(url, headers=HEADERS)\n",
    "    response = BeautifulSoup(r.text, 'html.parser')\n",
    "    \n",
    "    leagues = []\n",
    "    rows = response.find(\"table\", {\"class\":\"items\"}).find_all(\"tr\",{\"class\",\"odd\"})\n",
    "    rows += response.find(\"table\", {\"class\":\"items\"}).find_all(\"tr\",{\"class\",\"even\"})\n",
    "\n",
    "    for row in rows:\n",
    "        val = row.find(\"td\",{\"class\":\"rechts hauptlink\"}).text\n",
    "        val = \".\".join(val.split(\",\"))\n",
    "        rest = val.split(\" \")[1]\n",
    "        val = val.split(\" \")[0]\n",
    "        if \"Bill\" in rest:\n",
    "            val = float(val) * 10**9\n",
    "        else:\n",
    "            if \"Mill\" in rest:\n",
    "                val = float(val) * 10**6\n",
    "            else: \n",
    "                val = 0\n",
    "        if val > 200*10**6:\n",
    "            league = {}\n",
    "            league[\"href\"] = row.findAll('a')[1]['href']\n",
    "            league[\"name\"] = row.find(\"img\")[\"title\"]\n",
    "            league[\"country\"] = row.find(\"td\",{\"class\",\"zentriert\"}).find(\"img\")[\"title\"]\n",
    "            league[\"tot_value\"] = val\n",
    "            leagues.append(league)\n",
    "            \n",
    "    return leagues"
   ]
  },
  {
   "cell_type": "code",
   "execution_count": 4,
   "metadata": {
    "collapsed": true
   },
   "outputs": [],
   "source": [
    "def parse_league(league_ref): #get teams in league\n",
    "    \n",
    "    HEADERS = {'User-Agent': 'Mozilla/5.0'}\n",
    "    url = base_url + league_ref\n",
    "    teams = []\n",
    "    \n",
    "    r = requests.get(url, headers=HEADERS)\n",
    "    response = BeautifulSoup(r.text, 'html.parser')\n",
    "    rows = response.find(\"table\", {\"class\":\"items\"}).find_all(\"tr\",{\"class\",\"odd\"})\n",
    "    rows += response.find(\"table\", {\"class\":\"items\"}).find_all(\"tr\",{\"class\",\"even\"})\n",
    "    \n",
    "    for row in rows:\n",
    "            \n",
    "            url_team = base_url + row.findAll(\"td\",{\"class\":\"zentriert\"})[1].find('a')['href']\n",
    "            r_team = requests.get(url_team, headers=HEADERS)\n",
    "            response_team = BeautifulSoup(r_team.text, 'html.parser')\n",
    "            stadium_info =response_team.find(\"div\",{\"id\":\"main\"}).findAll(\"span\",{\"class\":\"dataValue\"})[4].text\n",
    "            \n",
    "            stadium_info=stadium_info.replace(u'\\xa0',u'')\n",
    "            stadium_info=stadium_info.replace(u'\\n',u'')\n",
    "\n",
    "\n",
    "            split_stadium= re.split(r'(\\d+)',stadium_info)\n",
    "            stadium = split_stadium[0]\n",
    "#             num_seats = float(split_stadium[1]+'.'+split_stadium[3])\n",
    "           \n",
    "            \n",
    "            team = {}\n",
    "            team[\"name\"] = row.findAll(\"td\",{\"class\":\"zentriert\"})[1].find('a')['title']\n",
    "            team[\"href\"] = row.findAll(\"td\",{\"class\":\"zentriert\"})[1].find('a')['href']\n",
    "            team[\"squad\"] = row.findAll(\"td\",{\"class\":\"zentriert\"})[1].text\n",
    "            team[\"market_value\"] = row.find(\"td\",{\"class\":\"rechts show-for-small show-for-pad nowrap\"}).text\n",
    "            team[\"stadium\"] = stadium\n",
    "#             team[\"stadium_seats\"] = num_seats\n",
    "            teams.append(team)\n",
    "\n",
    "    \n",
    "    \n",
    "    return teams\n",
    "\n",
    "    "
   ]
  },
  {
   "cell_type": "code",
   "execution_count": 5,
   "metadata": {
    "collapsed": false
   },
   "outputs": [],
   "source": [
    "teams = parse_league('/premier-league/startseite/wettbewerb/GB1')\n",
    "teams += parse_league('/serie-a/startseite/wettbewerb/IT1')\n"
   ]
  },
  {
   "cell_type": "code",
   "execution_count": 6,
   "metadata": {
    "collapsed": false
   },
   "outputs": [
    {
     "data": {
      "text/plain": [
       "[{'href': '/chelsea-fc/kader/verein/631/saison_id/2017',\n",
       "  'market_value': '631,90 Mill. €',\n",
       "  'name': 'Chelsea FC',\n",
       "  'squad': '26',\n",
       "  'stadium': 'Stamford Bridge'},\n",
       " {'href': '/manchester-united/kader/verein/985/saison_id/2017',\n",
       "  'market_value': '592,75 Mill. €',\n",
       "  'name': 'Manchester United',\n",
       "  'squad': '25',\n",
       "  'stadium': 'Old Trafford'},\n",
       " {'href': '/liverpool-fc/kader/verein/31/saison_id/2017',\n",
       "  'market_value': '514,50 Mill. €',\n",
       "  'name': 'Liverpool FC',\n",
       "  'squad': '29',\n",
       "  'stadium': 'Anfield'},\n",
       " {'href': '/everton-fc/kader/verein/29/saison_id/2017',\n",
       "  'market_value': '335,25 Mill. €',\n",
       "  'name': 'Everton FC',\n",
       "  'squad': '31',\n",
       "  'stadium': 'Goodison Park'},\n",
       " {'href': '/leicester-city/kader/verein/1003/saison_id/2017',\n",
       "  'market_value': '243,50 Mill. €',\n",
       "  'name': 'Leicester City',\n",
       "  'squad': '26',\n",
       "  'stadium': 'King Power Stadium'},\n",
       " {'href': '/crystal-palace/kader/verein/873/saison_id/2017',\n",
       "  'market_value': '190,60 Mill. €',\n",
       "  'name': 'Crystal Palace',\n",
       "  'squad': '27',\n",
       "  'stadium': 'Selhurst Park'},\n",
       " {'href': '/west-bromwich-albion/kader/verein/984/saison_id/2017',\n",
       "  'market_value': '156,25 Mill. €',\n",
       "  'name': 'West Bromwich Albion',\n",
       "  'squad': '22',\n",
       "  'stadium': 'The Hawthorns'},\n",
       " {'href': '/watford-fc/kader/verein/1010/saison_id/2017',\n",
       "  'market_value': '150,00 Mill. €',\n",
       "  'name': 'Watford FC',\n",
       "  'squad': '30',\n",
       "  'stadium': 'Vicarage Road'},\n",
       " {'href': '/afc-bournemouth/kader/verein/989/saison_id/2017',\n",
       "  'market_value': '116,75 Mill. €',\n",
       "  'name': 'AFC Bournemouth',\n",
       "  'squad': '27',\n",
       "  'stadium': 'Vitality Stadium'},\n",
       " {'href': '/burnley-fc/kader/verein/1132/saison_id/2017',\n",
       "  'market_value': '91,50 Mill. €',\n",
       "  'name': 'Burnley FC',\n",
       "  'squad': '25',\n",
       "  'stadium': 'Turf Moor'},\n",
       " {'href': '/manchester-city/kader/verein/281/saison_id/2017',\n",
       "  'market_value': '629,50 Mill. €',\n",
       "  'name': 'Manchester City',\n",
       "  'squad': '21',\n",
       "  'stadium': 'Etihad Stadium'},\n",
       " {'href': '/tottenham-hotspur/kader/verein/148/saison_id/2017',\n",
       "  'market_value': '551,00 Mill. €',\n",
       "  'name': 'Tottenham Hotspur',\n",
       "  'squad': '24',\n",
       "  'stadium': 'Wembley Stadium'},\n",
       " {'href': '/arsenal-fc/kader/verein/11/saison_id/2017',\n",
       "  'market_value': '508,00 Mill. €',\n",
       "  'name': 'Arsenal FC',\n",
       "  'squad': '26',\n",
       "  'stadium': 'Emirates Stadium'},\n",
       " {'href': '/southampton-fc/kader/verein/180/saison_id/2017',\n",
       "  'market_value': '255,60 Mill. €',\n",
       "  'name': 'Southampton FC',\n",
       "  'squad': '27',\n",
       "  'stadium': \"St Mary's Stadium\"},\n",
       " {'href': '/west-ham-united/kader/verein/379/saison_id/2017',\n",
       "  'market_value': '215,90 Mill. €',\n",
       "  'name': 'West Ham United',\n",
       "  'squad': '24',\n",
       "  'stadium': 'London Stadium'},\n",
       " {'href': '/stoke-city/kader/verein/512/saison_id/2017',\n",
       "  'market_value': '160,50 Mill. €',\n",
       "  'name': 'Stoke City',\n",
       "  'squad': '24',\n",
       "  'stadium': 'bet'},\n",
       " {'href': '/swansea-city/kader/verein/2288/saison_id/2017',\n",
       "  'market_value': '154,10 Mill. €',\n",
       "  'name': 'Swansea City',\n",
       "  'squad': '26',\n",
       "  'stadium': 'Liberty Stadium'},\n",
       " {'href': '/newcastle-united/kader/verein/762/saison_id/2017',\n",
       "  'market_value': '137,00 Mill. €',\n",
       "  'name': 'Newcastle United',\n",
       "  'squad': '27',\n",
       "  'stadium': \"St James' Park\"},\n",
       " {'href': '/brighton-amp-hove-albion/kader/verein/1237/saison_id/2017',\n",
       "  'market_value': '99,00 Mill. €',\n",
       "  'name': 'Brighton & Hove Albion',\n",
       "  'squad': '28',\n",
       "  'stadium': 'AMEX Stadium'},\n",
       " {'href': '/huddersfield-town/kader/verein/1110/saison_id/2017',\n",
       "  'market_value': '58,00 Mill. €',\n",
       "  'name': 'Huddersfield Town',\n",
       "  'squad': '26',\n",
       "  'stadium': \"John Smith's Stadium\"},\n",
       " {'href': '/juventus-fc/kader/verein/506/saison_id/2017',\n",
       "  'market_value': '540,30 Mill. €',\n",
       "  'name': 'Juventus FC',\n",
       "  'squad': '25',\n",
       "  'stadium': 'Allianz Stadium'},\n",
       " {'href': '/ac-milan/kader/verein/5/saison_id/2017',\n",
       "  'market_value': '341,20 Mill. €',\n",
       "  'name': 'AC Milan',\n",
       "  'squad': '32',\n",
       "  'stadium': 'Giuseppe Meazza'},\n",
       " {'href': '/inter-milan/kader/verein/46/saison_id/2017',\n",
       "  'market_value': '300,50 Mill. €',\n",
       "  'name': 'Inter Milan',\n",
       "  'squad': '24',\n",
       "  'stadium': 'Stadio San Siro - Giuseppe Meazza'},\n",
       " {'href': '/acf-fiorentina/kader/verein/430/saison_id/2017',\n",
       "  'market_value': '137,33 Mill. €',\n",
       "  'name': 'ACF Fiorentina',\n",
       "  'squad': '27',\n",
       "  'stadium': 'Artemio Franchi'},\n",
       " {'href': '/torino-fc/kader/verein/416/saison_id/2017',\n",
       "  'market_value': '130,43 Mill. €',\n",
       "  'name': 'Torino FC',\n",
       "  'squad': '27',\n",
       "  'stadium': 'Stadio Grande Torino'},\n",
       " {'href': '/us-sassuolo/kader/verein/6574/saison_id/2017',\n",
       "  'market_value': '100,40 Mill. €',\n",
       "  'name': 'US Sassuolo',\n",
       "  'squad': '28',\n",
       "  'stadium': 'Mapei Stadium - Città del Tricolore'},\n",
       " {'href': '/udinese-calcio/kader/verein/410/saison_id/2017',\n",
       "  'market_value': '77,13 Mill. €',\n",
       "  'name': 'Udinese Calcio',\n",
       "  'squad': '32',\n",
       "  'stadium': 'Dacia Arena'},\n",
       " {'href': '/cagliari-calcio/kader/verein/1390/saison_id/2017',\n",
       "  'market_value': '62,65 Mill. €',\n",
       "  'name': 'Cagliari Calcio',\n",
       "  'squad': '24',\n",
       "  'stadium': 'Sardegna Arena'},\n",
       " {'href': '/benevento-calcio/kader/verein/4171/saison_id/2017',\n",
       "  'market_value': '41,30 Mill. €',\n",
       "  'name': 'Benevento Calcio',\n",
       "  'squad': '28',\n",
       "  'stadium': 'Ciro Vigorito'},\n",
       " {'href': '/spal-2013/kader/verein/2722/saison_id/2017',\n",
       "  'market_value': '36,65 Mill. €',\n",
       "  'name': 'SPAL 2013',\n",
       "  'squad': '28',\n",
       "  'stadium': 'Paolo Mazza'},\n",
       " {'href': '/ssc-napoli/kader/verein/6195/saison_id/2017',\n",
       "  'market_value': '353,90 Mill. €',\n",
       "  'name': 'SSC Napoli',\n",
       "  'squad': '25',\n",
       "  'stadium': 'San Paolo'},\n",
       " {'href': '/as-roma/kader/verein/12/saison_id/2017',\n",
       "  'market_value': '327,10 Mill. €',\n",
       "  'name': 'AS Roma',\n",
       "  'squad': '26',\n",
       "  'stadium': 'Olimpico di Roma'},\n",
       " {'href': '/ss-lazio/kader/verein/398/saison_id/2017',\n",
       "  'market_value': '201,95 Mill. €',\n",
       "  'name': 'SS Lazio',\n",
       "  'squad': '32',\n",
       "  'stadium': 'Olimpico di Roma'},\n",
       " {'href': '/atalanta-bc/kader/verein/800/saison_id/2017',\n",
       "  'market_value': '132,08 Mill. €',\n",
       "  'name': 'Atalanta BC',\n",
       "  'squad': '27',\n",
       "  'stadium': \"Atleti Azzurri d'Italia\"},\n",
       " {'href': '/uc-sampdoria/kader/verein/1038/saison_id/2017',\n",
       "  'market_value': '103,88 Mill. €',\n",
       "  'name': 'UC Sampdoria',\n",
       "  'squad': '26',\n",
       "  'stadium': 'Luigi Ferraris'},\n",
       " {'href': '/genoa-cfc/kader/verein/252/saison_id/2017',\n",
       "  'market_value': '87,90 Mill. €',\n",
       "  'name': 'Genoa CFC',\n",
       "  'squad': '29',\n",
       "  'stadium': 'Luigi Ferraris'},\n",
       " {'href': '/bologna-fc-1909/kader/verein/1025/saison_id/2017',\n",
       "  'market_value': '69,28 Mill. €',\n",
       "  'name': 'Bologna FC 1909',\n",
       "  'squad': '29',\n",
       "  'stadium': 'Stadio Renato Dall’Ara'},\n",
       " {'href': '/chievo-verona/kader/verein/862/saison_id/2017',\n",
       "  'market_value': '50,18 Mill. €',\n",
       "  'name': 'Chievo Verona',\n",
       "  'squad': '29',\n",
       "  'stadium': 'Marcantonio Bentegodi'},\n",
       " {'href': '/hellas-verona/kader/verein/276/saison_id/2017',\n",
       "  'market_value': '39,00 Mill. €',\n",
       "  'name': 'Hellas Verona',\n",
       "  'squad': '30',\n",
       "  'stadium': 'Marcantonio Bentegodi'},\n",
       " {'href': '/fc-crotone/kader/verein/4083/saison_id/2017',\n",
       "  'market_value': '27,65 Mill. €',\n",
       "  'name': 'FC Crotone',\n",
       "  'squad': '29',\n",
       "  'stadium': 'Ezio Scida'}]"
      ]
     },
     "execution_count": 6,
     "metadata": {},
     "output_type": "execute_result"
    }
   ],
   "source": [
    "teams"
   ]
  },
  {
   "cell_type": "code",
   "execution_count": 47,
   "metadata": {
    "collapsed": true
   },
   "outputs": [],
   "source": [
    "leagues = parseContinent(\"wettbewerbe/europa\")\n",
    "leagues += parseContinent(\"wettbewerbe/amerika\")\n",
    "leagues += parseContinent(\"wettbewerbe/asien\")"
   ]
  },
  {
   "cell_type": "code",
   "execution_count": 48,
   "metadata": {
    "collapsed": true
   },
   "outputs": [],
   "source": [
    "with open(\"data/leagues.json\", \"w\") as out:\n",
    "    json.dump(leagues, out)"
   ]
  },
  {
   "cell_type": "code",
   "execution_count": 10,
   "metadata": {
    "collapsed": true
   },
   "outputs": [],
   "source": [
    "def parsePlayer(player_ref):    \n",
    "    \n",
    "    HEADERS = {'User-Agent': 'Mozilla/5.0'}\n",
    "    url = base_url + \"/\" + player_ref\n",
    "\n",
    "    r = requests.get(url, headers=HEADERS)\n",
    "    response = BeautifulSoup(r.text, 'html.parser')\n",
    "    \n",
    "    playerInfos = str(response.find(\"table\", {\"class\":\"auflistung\"}))\n",
    "    player = {}\n",
    "    player[\"href\"] = player_ref\n",
    "    player[\"number\"] = response.find(\"span\", {\"class\":\"dataRN\"}).text\n",
    "    player[\"name\"] = response.find(\"h1\", {\"itemprop\":\"name\"}).text\n",
    "    player[\"player_id\"] = player_ref.split(\"/\")[-1]\n",
    "    position = BeautifulSoup(playerInfos.split(\"Position\")[1], 'html.parser').find(\"td\").text\n",
    "    reg = re.compile( \"[a-zA-Z -]\")\n",
    "    player[\"position\"] = \"\".join(reg.findall(position))\n",
    "    player[\"birthdate\"] = BeautifulSoup(playerInfos.split(\"Date of birth\")[1], 'html.parser').find(\"td\").text\n",
    "    player[\"nationality\"] = BeautifulSoup(playerInfos.split(\"Nationality\")[1], 'html.parser').find(\"td\").find(\"img\")[\"title\"]\n",
    "    player[\"current_club\"] = BeautifulSoup(playerInfos.split(\"Current club\")[1], 'html.parser').find(\"td\").find_all(\"a\")[-1].text\n",
    "\n",
    "    transfers = []\n",
    "    trans = response.find(\"div\",{\"class\" : \"box transferhistorie\"}).find(\"table\").find(\"tbody\").find_all(\"tr\", {\"class\":\"zeile-transfer\"})\n",
    "\n",
    "    for t in trans:\n",
    "        transfer = {}\n",
    "        transfer[\"player\"] = player_ref.split(\"/\")[-1]\n",
    "        transfer[\"date\"] = t.find_all(\"td\", {\"class\":\"zentriert hide-for-small\"})[1].text\n",
    "        transfer[\"from\"] = t.find_all(\"td\", {\"class\":\"no-border-rechts vereinswappen\"})[0].find(\"a\")[\"id\"]\n",
    "        transfer[\"to\"] = t.find_all(\"td\", {\"class\":\"no-border-rechts vereinswappen\"})[1].find(\"a\")[\"id\"]\n",
    "        transfer[\"fee\"] = t.find(\"td\", {\"class\":\"zelle-mw\"}).text\n",
    "\n",
    "        transfers.append(transfer)\n",
    "        \n",
    "    return player, transfers"
   ]
  },
  {
   "cell_type": "code",
   "execution_count": 11,
   "metadata": {
    "collapsed": false
   },
   "outputs": [],
   "source": [
    "href = \"ivan-rakitic/profil/spieler/32467\"\n",
    "player, transfers = parsePlayer(href)"
   ]
  },
  {
   "cell_type": "code",
   "execution_count": 12,
   "metadata": {
    "collapsed": false
   },
   "outputs": [
    {
     "data": {
      "text/plain": [
       "{'birthdate': 'Mar 10, 1988 ',\n",
       " 'current_club': 'FC Barcelona',\n",
       " 'href': 'ivan-rakitic/profil/spieler/32467',\n",
       " 'name': 'Ivan Rakitic',\n",
       " 'nationality': 'Croatia',\n",
       " 'number': '#4',\n",
       " 'player_id': '32467',\n",
       " 'position': 'Midfield - Central Midfield'}"
      ]
     },
     "execution_count": 12,
     "metadata": {},
     "output_type": "execute_result"
    }
   ],
   "source": [
    "player"
   ]
  },
  {
   "cell_type": "code",
   "execution_count": 23,
   "metadata": {
    "collapsed": false
   },
   "outputs": [
    {
     "data": {
      "text/plain": [
       "[{'date': 'Jul 1, 2014',\n",
       "  'fee': '20,00 Mill. €',\n",
       "  'from': '368',\n",
       "  'player': '32467',\n",
       "  'to': '131'},\n",
       " {'date': 'Jan 28, 2011',\n",
       "  'fee': '9,00 Mill. €',\n",
       "  'from': '33',\n",
       "  'player': '32467',\n",
       "  'to': '368'},\n",
       " {'date': 'Jul 1, 2007',\n",
       "  'fee': '5,00 Mill. €',\n",
       "  'from': '26',\n",
       "  'player': '32467',\n",
       "  'to': '33'},\n",
       " {'date': 'Jul 1, 2005',\n",
       "  'fee': '-',\n",
       "  'from': '5299',\n",
       "  'player': '32467',\n",
       "  'to': '26'},\n",
       " {'date': 'Jul 1, 2004',\n",
       "  'fee': '-',\n",
       "  'from': '14322',\n",
       "  'player': '32467',\n",
       "  'to': '5299'}]"
      ]
     },
     "execution_count": 23,
     "metadata": {},
     "output_type": "execute_result"
    }
   ],
   "source": [
    "transfers"
   ]
  },
  {
   "cell_type": "code",
   "execution_count": 14,
   "metadata": {
    "collapsed": false
   },
   "outputs": [
    {
     "data": {
      "text/plain": [
       "list"
      ]
     },
     "execution_count": 14,
     "metadata": {},
     "output_type": "execute_result"
    }
   ],
   "source": [
    "type(transfers)"
   ]
  },
  {
   "cell_type": "code",
   "execution_count": 49,
   "metadata": {
    "collapsed": false
   },
   "outputs": [
    {
     "data": {
      "text/plain": [
       "[{'country': 'England',\n",
       "  'href': '/premier-league/startseite/wettbewerb/GB1',\n",
       "  'name': 'Premier League',\n",
       "  'tot_value': 5790000000.0},\n",
       " {'country': 'Italy',\n",
       "  'href': '/serie-a/startseite/wettbewerb/IT1',\n",
       "  'name': 'Serie A',\n",
       "  'tot_value': 3160000000.0},\n",
       " {'country': 'France',\n",
       "  'href': '/ligue-1/startseite/wettbewerb/FR1',\n",
       "  'name': 'Ligue 1',\n",
       "  'tot_value': 2080000000.0},\n",
       " {'country': 'Portugal',\n",
       "  'href': '/liga-nos/startseite/wettbewerb/PO1',\n",
       "  'name': 'Liga NOS',\n",
       "  'tot_value': 799530000.0},\n",
       " {'country': 'Netherlands',\n",
       "  'href': '/eredivisie/startseite/wettbewerb/NL1',\n",
       "  'name': 'Eredivisie',\n",
       "  'tot_value': 611600000.0},\n",
       " {'country': 'Greece',\n",
       "  'href': '/super-league/startseite/wettbewerb/GR1',\n",
       "  'name': 'Super League',\n",
       "  'tot_value': 313880000.0},\n",
       " {'country': 'Switzerland',\n",
       "  'href': '/raiffeisen-super-league/startseite/wettbewerb/C1',\n",
       "  'name': 'Raiffeisen Super League',\n",
       "  'tot_value': 207050000.0},\n",
       " {'country': 'Spain',\n",
       "  'href': '/laliga/startseite/wettbewerb/ES1',\n",
       "  'name': 'LaLiga',\n",
       "  'tot_value': 3720000000.0},\n",
       " {'country': 'Germany',\n",
       "  'href': '/1-bundesliga/startseite/wettbewerb/L1',\n",
       "  'name': '1.Bundesliga',\n",
       "  'tot_value': 2890000000.0},\n",
       " {'country': 'Turkey',\n",
       "  'href': '/super-lig/startseite/wettbewerb/TR1',\n",
       "  'name': 'Süper Lig',\n",
       "  'tot_value': 858580000.0},\n",
       " {'country': 'Russia',\n",
       "  'href': '/premier-liga/startseite/wettbewerb/RU1',\n",
       "  'name': 'Premier Liga',\n",
       "  'tot_value': 729380000.0},\n",
       " {'country': 'Belgium',\n",
       "  'href': '/jupiler-pro-league/startseite/wettbewerb/BE1',\n",
       "  'name': 'Jupiler Pro League',\n",
       "  'tot_value': 553080000.0},\n",
       " {'country': 'Ukraine',\n",
       "  'href': '/premier-liga/startseite/wettbewerb/UKR1',\n",
       "  'name': 'Premier Liga',\n",
       "  'tot_value': 253200000.0},\n",
       " {'country': 'Czech Republic',\n",
       "  'href': '/het-liga/startseite/wettbewerb/TS1',\n",
       "  'name': 'HET Liga',\n",
       "  'tot_value': 200180000.0},\n",
       " {'country': 'Brazil',\n",
       "  'href': '/campeonato-brasileiro-serie-a/startseite/wettbewerb/BRA1',\n",
       "  'name': 'Campeonato Brasileiro Série A',\n",
       "  'tot_value': 876400000.0},\n",
       " {'country': 'Mexico',\n",
       "  'href': '/liga-mx-clausura/startseite/wettbewerb/MEX1',\n",
       "  'name': 'Liga MX Clausura',\n",
       "  'tot_value': 602950000.0},\n",
       " {'country': 'United States',\n",
       "  'href': '/major-league-soccer/startseite/wettbewerb/MLS1',\n",
       "  'name': 'Major League Soccer',\n",
       "  'tot_value': 408800000.0},\n",
       " {'country': 'Brazil',\n",
       "  'href': '/campeonato-brasileiro-serie-b/startseite/wettbewerb/BRA2',\n",
       "  'name': 'Campeonato Brasileiro Série B',\n",
       "  'tot_value': 247100000.0},\n",
       " {'country': 'Argentina',\n",
       "  'href': '/primera-division/startseite/wettbewerb/AR1N',\n",
       "  'name': 'Primera División',\n",
       "  'tot_value': 696500000.0},\n",
       " {'country': 'Mexico',\n",
       "  'href': '/liga-mx-apertura/startseite/wettbewerb/MEXA',\n",
       "  'name': 'Liga MX Apertura',\n",
       "  'tot_value': 602950000.0},\n",
       " {'country': 'Colombia',\n",
       "  'href': '/liga-aguila-i/startseite/wettbewerb/COLP',\n",
       "  'name': 'Liga Águila I',\n",
       "  'tot_value': 258480000.00000003},\n",
       " {'country': 'China',\n",
       "  'href': '/chinese-super-league/startseite/wettbewerb/CSL',\n",
       "  'name': 'Chinese Super League',\n",
       "  'tot_value': 370680000.0},\n",
       " {'country': 'Japan',\n",
       "  'href': '/j1-league/startseite/wettbewerb/JAP1',\n",
       "  'name': 'J1 League',\n",
       "  'tot_value': 257250000.0}]"
      ]
     },
     "execution_count": 49,
     "metadata": {},
     "output_type": "execute_result"
    }
   ],
   "source": [
    "leagues"
   ]
  },
  {
   "cell_type": "code",
   "execution_count": null,
   "metadata": {
    "collapsed": true
   },
   "outputs": [],
   "source": []
  }
 ],
 "metadata": {
  "kernelspec": {
   "display_name": "Python 3",
   "language": "python",
   "name": "python3"
  },
  "language_info": {
   "codemirror_mode": {
    "name": "ipython",
    "version": 3
   },
   "file_extension": ".py",
   "mimetype": "text/x-python",
   "name": "python",
   "nbconvert_exporter": "python",
   "pygments_lexer": "ipython3",
   "version": "3.6.0"
  }
 },
 "nbformat": 4,
 "nbformat_minor": 2
}
